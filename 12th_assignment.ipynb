{
 "cells": [
  {
   "cell_type": "code",
   "execution_count": 1,
   "metadata": {},
   "outputs": [],
   "source": [
    "#Ödev 1\n",
    "\n",
    "# veriden doğru öngörüleri alabilmek adına yapılan analizler bütünü.\n",
    "# veride outlier değerler var mı? veri beni hedefime ulaştıracak iç görüleri sunuyor mu?\n",
    "# veriyi anlamlandırabileceğim ortak özellikler var mı? gibi sorulara cevap bulma süreci olarak tanımlayabiliriz."
   ]
  },
  {
   "cell_type": "code",
   "execution_count": 2,
   "metadata": {},
   "outputs": [],
   "source": [
    "# Ödev 2\n",
    "\n",
    "# a - olumlu bir yorumun 1 olarak yanlış skorlanması\n",
    "#   - skorsuz yorumların bulunması NA\n",
    "#   - int str farklılıklarının olması\n",
    "#   - benzer yorumların farklı skorlanması"
   ]
  },
  {
   "cell_type": "code",
   "execution_count": 3,
   "metadata": {},
   "outputs": [],
   "source": [
    "# b - 5 skorlanan yorumlarda geçen ortak kelimeleri ayıklama\n",
    "#   - 1 skorlanan yorumlarda geçen ortak kelimeleri ayıklama\n",
    "#   - ürün özelinde gruplama yaparak skor dağılımını inceleme\n",
    "#   - fiyat özelinde gruplama yaparak skor dağılımını inceleme"
   ]
  },
  {
   "cell_type": "code",
   "execution_count": 4,
   "metadata": {},
   "outputs": [],
   "source": [
    "# c - eğer bir üst analizde mantıklı sonuçlar elde ediyorsam fiyat, marka, ürün gibi gruplamalarda iyi skorlanan\n",
    "# grupları ön plana çıkartmaya, kötü skorlanan grupları arka planda tutarak satışları artırmaya çalışırım.\n",
    "# hizmet ile ilgili yorumların puanlamasını gruplayarak müşteri beklentisini anlamaya ve hizmeti geliştirmeye çalışırım"
   ]
  }
 ],
 "metadata": {
  "kernelspec": {
   "display_name": "Python 3",
   "language": "python",
   "name": "python3"
  },
  "language_info": {
   "codemirror_mode": {
    "name": "ipython",
    "version": 3
   },
   "file_extension": ".py",
   "mimetype": "text/x-python",
   "name": "python",
   "nbconvert_exporter": "python",
   "pygments_lexer": "ipython3",
   "version": "3.7.3"
  }
 },
 "nbformat": 4,
 "nbformat_minor": 2
}
