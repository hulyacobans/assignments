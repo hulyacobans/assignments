{
 "cells": [
  {
   "cell_type": "code",
   "execution_count": 11,
   "metadata": {},
   "outputs": [
    {
     "data": {
      "image/png": "[encoded data removed]",
      "text/plain": [
       "<Figure size 500x300 with 1 Axes>"
      ]
     },
     "metadata": {
      "needs_background": "light"
     },
     "output_type": "display_data"
    }
   ],
   "source": [
    "#ÖDEV 1\n",
    "import numpy as np\n",
    "import pandas as pd\n",
    "import matplotlib.pyplot as plt\n",
    "\n",
    "\n",
    "plt.figure(figsize=(5,3), dpi = 100)\n",
    "dagilim =  np.random.normal(20, 0.8, 500)\n",
    "plt.hist(dagilim)\n",
    "plt.show()\n",
    "\n",
    "\n",
    "\n"
   ]
  },
  {
   "cell_type": "code",
   "execution_count": 4,
   "metadata": {},
   "outputs": [
    {
     "data": {
      "image/png": "[encoded data removed]",
      "text/plain": [
       "<Figure size 500x300 with 1 Axes>"
      ]
     },
     "metadata": {
      "needs_background": "light"
     },
     "output_type": "display_data"
    }
   ],
   "source": [
    "plt.figure(figsize=(5,3), dpi = 100)\n",
    "\n",
    "ikinci_dagilim = np.random.normal(50, 200, 500)\n",
    "\n",
    "dagilim.sort()\n",
    "ikinci_dagilim.sort()\n",
    "\n",
    "plt.plot(dagilim, ikinci_dagilim, \"o\")\n",
    "plt.ylabel('Dağılım') \n",
    "plt.xlabel('İkinci Dağılım')\n",
    "\n",
    "plt.plot([np.min(dagilim), np.max(dagilim)],\n",
    "         [np.min(ikinci_dagilim), np.max(ikinci_dagilim)], c='red')\n",
    "plt.show()\n",
    "\n",
    "#sağa çarpık dağılım oluştu, yeniledikçe değerleri grafik farklılaşıyo :)\n",
    "\n",
    "# random.seed e bak!!!!"
   ]
  },
  {
   "cell_type": "code",
   "execution_count": 13,
   "metadata": {},
   "outputs": [
    {
     "data": {
      "text/html": [
       "<div>\n",
       "<style scoped>\n",
       "    .dataframe tbody tr th:only-of-type {\n",
       "        vertical-align: middle;\n",
       "    }\n",
       "\n",
       "    .dataframe tbody tr th {\n",
       "        vertical-align: top;\n",
       "    }\n",
       "\n",
       "    .dataframe thead th {\n",
       "        text-align: right;\n",
       "    }\n",
       "</style>\n",
       "<table border=\"1\" class=\"dataframe\">\n",
       "  <thead>\n",
       "    <tr style=\"text-align: right;\">\n",
       "      <th></th>\n",
       "      <th>Date</th>\n",
       "      <th>Open</th>\n",
       "      <th>High</th>\n",
       "      <th>Low</th>\n",
       "      <th>Close</th>\n",
       "      <th>Adj Close</th>\n",
       "      <th>Volume</th>\n",
       "    </tr>\n",
       "  </thead>\n",
       "  <tbody>\n",
       "    <tr>\n",
       "      <th>0</th>\n",
       "      <td>2014-12-31</td>\n",
       "      <td>537.739990</td>\n",
       "      <td>538.400024</td>\n",
       "      <td>530.200012</td>\n",
       "      <td>530.659973</td>\n",
       "      <td>530.659973</td>\n",
       "      <td>1232400</td>\n",
       "    </tr>\n",
       "    <tr>\n",
       "      <th>1</th>\n",
       "      <td>2015-01-02</td>\n",
       "      <td>532.599976</td>\n",
       "      <td>535.799988</td>\n",
       "      <td>527.880005</td>\n",
       "      <td>529.549988</td>\n",
       "      <td>529.549988</td>\n",
       "      <td>1324000</td>\n",
       "    </tr>\n",
       "    <tr>\n",
       "      <th>2</th>\n",
       "      <td>2015-01-05</td>\n",
       "      <td>527.150024</td>\n",
       "      <td>527.989990</td>\n",
       "      <td>517.750000</td>\n",
       "      <td>519.460022</td>\n",
       "      <td>519.460022</td>\n",
       "      <td>2059100</td>\n",
       "    </tr>\n",
       "    <tr>\n",
       "      <th>3</th>\n",
       "      <td>2015-01-06</td>\n",
       "      <td>520.500000</td>\n",
       "      <td>521.210022</td>\n",
       "      <td>505.549988</td>\n",
       "      <td>506.640015</td>\n",
       "      <td>506.640015</td>\n",
       "      <td>2722800</td>\n",
       "    </tr>\n",
       "    <tr>\n",
       "      <th>4</th>\n",
       "      <td>2015-01-07</td>\n",
       "      <td>510.950012</td>\n",
       "      <td>511.489990</td>\n",
       "      <td>503.649994</td>\n",
       "      <td>505.149994</td>\n",
       "      <td>505.149994</td>\n",
       "      <td>2345900</td>\n",
       "    </tr>\n",
       "  </tbody>\n",
       "</table>\n",
       "</div>"
      ],
      "text/plain": [
       "         Date        Open        High         Low       Close   Adj Close  \\\n",
       "0  2014-12-31  537.739990  538.400024  530.200012  530.659973  530.659973   \n",
       "1  2015-01-02  532.599976  535.799988  527.880005  529.549988  529.549988   \n",
       "2  2015-01-05  527.150024  527.989990  517.750000  519.460022  519.460022   \n",
       "3  2015-01-06  520.500000  521.210022  505.549988  506.640015  506.640015   \n",
       "4  2015-01-07  510.950012  511.489990  503.649994  505.149994  505.149994   \n",
       "\n",
       "    Volume  \n",
       "0  1232400  \n",
       "1  1324000  \n",
       "2  2059100  \n",
       "3  2722800  \n",
       "4  2345900  "
      ]
     },
     "execution_count": 13,
     "metadata": {},
     "output_type": "execute_result"
    }
   ],
   "source": [
    "#ÖDEV 2\n",
    "\n",
    "\n",
    "df = pd.read_csv('GOOGL.csv')\n",
    "df.head()"
   ]
  },
  {
   "cell_type": "code",
   "execution_count": 14,
   "metadata": {},
   "outputs": [
    {
     "data": {
      "text/html": [
       "<div>\n",
       "<style scoped>\n",
       "    .dataframe tbody tr th:only-of-type {\n",
       "        vertical-align: middle;\n",
       "    }\n",
       "\n",
       "    .dataframe tbody tr th {\n",
       "        vertical-align: top;\n",
       "    }\n",
       "\n",
       "    .dataframe thead th {\n",
       "        text-align: right;\n",
       "    }\n",
       "</style>\n",
       "<table border=\"1\" class=\"dataframe\">\n",
       "  <thead>\n",
       "    <tr style=\"text-align: right;\">\n",
       "      <th></th>\n",
       "      <th>Date</th>\n",
       "      <th>Open</th>\n",
       "      <th>High</th>\n",
       "      <th>Low</th>\n",
       "      <th>Close</th>\n",
       "      <th>Adj Close</th>\n",
       "      <th>Volume</th>\n",
       "    </tr>\n",
       "  </thead>\n",
       "  <tbody>\n",
       "    <tr>\n",
       "      <th>0</th>\n",
       "      <td>2014-12-31</td>\n",
       "      <td>537.739990</td>\n",
       "      <td>538.400024</td>\n",
       "      <td>530.200012</td>\n",
       "      <td>530.659973</td>\n",
       "      <td>530.659973</td>\n",
       "      <td>1232400</td>\n",
       "    </tr>\n",
       "    <tr>\n",
       "      <th>1</th>\n",
       "      <td>2015-01-02</td>\n",
       "      <td>532.599976</td>\n",
       "      <td>535.799988</td>\n",
       "      <td>527.880005</td>\n",
       "      <td>529.549988</td>\n",
       "      <td>529.549988</td>\n",
       "      <td>1324000</td>\n",
       "    </tr>\n",
       "    <tr>\n",
       "      <th>2</th>\n",
       "      <td>2015-01-05</td>\n",
       "      <td>527.150024</td>\n",
       "      <td>527.989990</td>\n",
       "      <td>517.750000</td>\n",
       "      <td>519.460022</td>\n",
       "      <td>519.460022</td>\n",
       "      <td>2059100</td>\n",
       "    </tr>\n",
       "    <tr>\n",
       "      <th>3</th>\n",
       "      <td>2015-01-06</td>\n",
       "      <td>520.500000</td>\n",
       "      <td>521.210022</td>\n",
       "      <td>505.549988</td>\n",
       "      <td>506.640015</td>\n",
       "      <td>506.640015</td>\n",
       "      <td>2722800</td>\n",
       "    </tr>\n",
       "    <tr>\n",
       "      <th>4</th>\n",
       "      <td>2015-01-07</td>\n",
       "      <td>510.950012</td>\n",
       "      <td>511.489990</td>\n",
       "      <td>503.649994</td>\n",
       "      <td>505.149994</td>\n",
       "      <td>505.149994</td>\n",
       "      <td>2345900</td>\n",
       "    </tr>\n",
       "  </tbody>\n",
       "</table>\n",
       "</div>"
      ],
      "text/plain": [
       "        Date        Open        High         Low       Close   Adj Close  \\\n",
       "0 2014-12-31  537.739990  538.400024  530.200012  530.659973  530.659973   \n",
       "1 2015-01-02  532.599976  535.799988  527.880005  529.549988  529.549988   \n",
       "2 2015-01-05  527.150024  527.989990  517.750000  519.460022  519.460022   \n",
       "3 2015-01-06  520.500000  521.210022  505.549988  506.640015  506.640015   \n",
       "4 2015-01-07  510.950012  511.489990  503.649994  505.149994  505.149994   \n",
       "\n",
       "    Volume  \n",
       "0  1232400  \n",
       "1  1324000  \n",
       "2  2059100  \n",
       "3  2722800  \n",
       "4  2345900  "
      ]
     },
     "execution_count": 14,
     "metadata": {},
     "output_type": "execute_result"
    }
   ],
   "source": [
    "df['Date'] = pd.to_datetime(df.Date)\n",
    "df.head()"
   ]
  },
  {
   "cell_type": "code",
   "execution_count": 10,
   "metadata": {},
   "outputs": [
    {
     "name": "stdout",
     "output_type": "stream",
     "text": [
      "Income rate: % 49.36773104786199\n"
     ]
    }
   ],
   "source": [
    "#the first open value in dataset\n",
    "p_1 = df.Open[0]\n",
    "#the last open value in dataset\n",
    "p_2 = df.Open[504]\n",
    "\n",
    "#income rate = (p2-p1)/p1\n",
    "inc_rate = (p_2 - p_1)/p_1\n",
    "print('Income rate: %', inc_rate*100)"
   ]
  },
  {
   "cell_type": "code",
   "execution_count": 16,
   "metadata": {},
   "outputs": [
    {
     "name": "stdout",
     "output_type": "stream",
     "text": [
      "     Adj Close\n",
      "0     0.000000\n",
      "1    -0.002092\n",
      "2    -0.019054\n",
      "3    -0.024679\n",
      "4    -0.002941\n",
      "5     0.003484\n",
      "6    -0.012211\n",
      "7    -0.007309\n",
      "8     0.009536\n",
      "9     0.008230\n",
      "10   -0.003795\n",
      "11    0.012797\n",
      "12   -0.001019\n",
      "13    0.020493\n",
      "14    0.032495\n",
      "15    0.008654\n",
      "16   -0.009650\n",
      "17   -0.028935\n",
      "18   -0.016808\n",
      "19    0.001561\n",
      "20    0.047386\n",
      "21   -0.009953\n",
      "22    0.002067\n",
      "23   -0.013501\n",
      "24    0.007090\n",
      "25    0.007644\n",
      "26   -0.008616\n",
      "27    0.020556\n",
      "28   -0.003999\n",
      "29    0.014888\n",
      "..         ...\n",
      "726   0.011636\n",
      "727  -0.011998\n",
      "728  -0.001187\n",
      "729   0.015116\n",
      "730   0.001542\n",
      "731   0.004373\n",
      "732   0.014661\n",
      "733  -0.008134\n",
      "734  -0.024368\n",
      "735  -0.001166\n",
      "736  -0.010713\n",
      "737  -0.012877\n",
      "738   0.007639\n",
      "739   0.012868\n",
      "740   0.011475\n",
      "741   0.004605\n",
      "742   0.002468\n",
      "743  -0.003042\n",
      "744   0.002498\n",
      "745   0.005783\n",
      "746   0.013740\n",
      "747   0.012211\n",
      "748  -0.004894\n",
      "749  -0.005760\n",
      "750  -0.002524\n",
      "751  -0.001858\n",
      "752  -0.002816\n",
      "753  -0.005301\n",
      "754  -0.004009\n",
      "755  -0.002415\n",
      "\n",
      "[756 rows x 1 columns]\n"
     ]
    }
   ],
   "source": [
    "daily_close = df[['Adj Close']]\n",
    "\n",
    "daily_pct_change = daily_close.pct_change()\n",
    "\n",
    "daily_pct_change.fillna(0, inplace = True)\n",
    "\n",
    "print(daily_pct_change)"
   ]
  },
  {
   "cell_type": "code",
   "execution_count": 17,
   "metadata": {},
   "outputs": [
    {
     "data": {
      "image/png": "[encoded data removed]",
      "text/plain": [
       "<Figure size 432x288 with 1 Axes>"
      ]
     },
     "metadata": {
      "needs_background": "light"
     },
     "output_type": "display_data"
    }
   ],
   "source": [
    "daily_pct_change.hist(bins = 50)\n",
    "plt.show()"
   ]
  },
  {
   "cell_type": "markdown",
   "metadata": {},
   "source": [
    "# Normal Dağılıma Yakın"
   ]
  },
  {
   "cell_type": "code",
   "execution_count": null,
   "metadata": {},
   "outputs": [],
   "source": []
  }
 ],
 "metadata": {
  "kernelspec": {
   "display_name": "Python 3",
   "language": "python",
   "name": "python3"
  },
  "language_info": {
   "codemirror_mode": {
    "name": "ipython",
    "version": 3
   },
   "file_extension": ".py",
   "mimetype": "text/x-python",
   "name": "python",
   "nbconvert_exporter": "python",
   "pygments_lexer": "ipython3",
   "version": "3.7.3"
  }
 },
 "nbformat": 4,
 "nbformat_minor": 2
}
