{
 "cells": [
  {
   "cell_type": "code",
   "execution_count": null,
   "metadata": {},
   "outputs": [],
   "source": [
    "\n",
    "select country,\n",
    "\n",
    "customerNumber as musterisayisi\n",
    "\n",
    "from customers\n",
    "\n",
    "group by country\n",
    "\n",
    "\n",
    "CASE c.country\n",
    "\n",
    "when musterisayisi < 10 THEN 'küçük'\n",
    "\n",
    "when musterisayisi > 20 THEN 'büyük'\n",
    "\n",
    "ELSE 'orta'\n",
    "\n",
    "END AS buyukluk\n",
    "\n",
    "FROM customers c;"
   ]
  }
 ],
 "metadata": {
  "kernelspec": {
   "display_name": "Python 3",
   "language": "python",
   "name": "python3"
  },
  "language_info": {
   "codemirror_mode": {
    "name": "ipython",
    "version": 3
   },
   "file_extension": ".py",
   "mimetype": "text/x-python",
   "name": "python",
   "nbconvert_exporter": "python",
   "pygments_lexer": "ipython3",
   "version": "3.7.3"
  }
 },
 "nbformat": 4,
 "nbformat_minor": 2
}
