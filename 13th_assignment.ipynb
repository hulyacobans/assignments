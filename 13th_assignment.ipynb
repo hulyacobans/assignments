{
 "cells": [
  {
   "cell_type": "code",
   "execution_count": 1,
   "metadata": {},
   "outputs": [],
   "source": [
    "#Ödev 1\n",
    "\n",
    "#rank değişkenini kategorik alabiliriz!!!\n",
    "#ancak ilk 10, ilk 100 gibi farklı gruplamalar ile görüntülenme sayısı, video sayısı, abone sayısı gibi verileri\n",
    "# inceleyebilir ve aralarında bir ilişki yakalayabiliriz."
   ]
  },
  {
   "cell_type": "code",
   "execution_count": null,
   "metadata": {},
   "outputs": [],
   "source": [
    "# Ödev 2\n",
    "\n",
    "# Yaş - oran değişkeni\n",
    "# Maaş - oran değişkeni\n",
    "# Gelir - oran değişkeni\n",
    "# Müşteri Türü - nominal değişken\n",
    "# Hisse senedi fiyatı - oran or aralık?"
   ]
  }
 ],
 "metadata": {
  "kernelspec": {
   "display_name": "Python 3",
   "language": "python",
   "name": "python3"
  },
  "language_info": {
   "codemirror_mode": {
    "name": "ipython",
    "version": 3
   },
   "file_extension": ".py",
   "mimetype": "text/x-python",
   "name": "python",
   "nbconvert_exporter": "python",
   "pygments_lexer": "ipython3",
   "version": "3.7.3"
  }
 },
 "nbformat": 4,
 "nbformat_minor": 2
}
