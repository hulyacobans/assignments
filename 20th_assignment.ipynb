{
 "cells": [
  {
   "cell_type": "markdown",
   "metadata": {},
   "source": [
    "# Ödev 1\n",
    "\n",
    "Veri tabanı verilerin kayıt edildiği, düzenleme ve sorgulamaya imkan tanıyan, birden fazla kullanıcıya erişim imkanı tanıyabilen programlardır.\n",
    "\n",
    "Dolayısıyla amaç verilerin saklanması, sıfılandırılması ve daha sonra tekrar kullanılabilmesidir.\n",
    "\n",
    "SQL'i ise bu veri tabanını yönetmek için kullanıyoruz. Veriyi oluşturmak, silmek, değiştirmek ve sorgulamak için.\n"
   ]
  },
  {
   "cell_type": "markdown",
   "metadata": {},
   "source": [
    "# Ödev 2\n",
    "\n",
    "Raw tables - hiç bir işlem görmemiş, datanın doğrudan aktığı tablolardır. Örn: sunuculardan gelen bilgilerin depolandığı log dosyaları gibi. kategorik ve nümerik veriler olabilir.\n",
    "\n",
    "Processed tables - bu dosya türünde ise veri temizleme işlemi yapılmış ve verinin kullanılabilir hale getirilmiş olduğunu anlıyorum. kategorik ve nümerik veriler olabilir.\n",
    "\n",
    "Roll-up tables - bu daha çok insight veren, kategorik bir tablo gibi. Kategorik olarak total verilerin işlendiği özet tablo olduğunu düşünebiliriz. Nümerik veriden çok kategorik veri ön planda."
   ]
  },
  {
   "cell_type": "code",
   "execution_count": null,
   "metadata": {},
   "outputs": [],
   "source": []
  }
 ],
 "metadata": {
  "kernelspec": {
   "display_name": "Python 3",
   "language": "python",
   "name": "python3"
  },
  "language_info": {
   "codemirror_mode": {
    "name": "ipython",
    "version": 3
   },
   "file_extension": ".py",
   "mimetype": "text/x-python",
   "name": "python",
   "nbconvert_exporter": "python",
   "pygments_lexer": "ipython3",
   "version": "3.7.3"
  }
 },
 "nbformat": 4,
 "nbformat_minor": 2
}
