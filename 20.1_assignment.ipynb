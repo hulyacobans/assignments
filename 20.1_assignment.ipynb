{
 "cells": [
  {
   "cell_type": "markdown",
   "metadata": {},
   "source": [
    "1- bozuk para modellemesinde bir çok değişken eklenebilir; adil mi değil mi, boyutu nedir, atılma hızı nedir, hangi yön üstteyken atılmıştır gibi değişkenleri ekleyerek modelleyebiliriz."
   ]
  },
  {
   "cell_type": "markdown",
   "metadata": {},
   "source": [
    "2 - Netflix'in Kendi algoritmasına dahil edebileceği diğer özellikler şunlar olabilir: \n",
    "\n",
    "- yarım bıraktığı, tam izlemediği film/tür/oyuncuları çıkartma (negatif)\n",
    "- trende göre (son dönemde izlediklerini baz alarak) daha çok önerme\n",
    "- aynı hesaptan başka profillerde çok izlenenleri önerme (arkadaş/eş ortak beğeniler)\n"
   ]
  },
  {
   "cell_type": "code",
   "execution_count": null,
   "metadata": {},
   "outputs": [],
   "source": []
  }
 ],
 "metadata": {
  "kernelspec": {
   "display_name": "Python 3",
   "language": "python",
   "name": "python3"
  },
  "language_info": {
   "codemirror_mode": {
    "name": "ipython",
    "version": 3
   },
   "file_extension": ".py",
   "mimetype": "text/x-python",
   "name": "python",
   "nbconvert_exporter": "python",
   "pygments_lexer": "ipython3",
   "version": "3.7.3"
  }
 },
 "nbformat": 4,
 "nbformat_minor": 2
}
