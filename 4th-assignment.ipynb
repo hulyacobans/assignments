{
 "cells": [
  {
   "cell_type": "code",
   "execution_count": 56,
   "metadata": {},
   "outputs": [
    {
     "name": "stdout",
     "output_type": "stream",
     "text": [
      "satir 1: Yavaş yavaş ölürler\n",
      "satir 2: Seyahat etmeyenler,\n",
      "satir 3: Yavaş yavaş ölürler okumayanlar,\n",
      "satir 4: müzik dinlemeyenler,\n",
      "satir 5: vicdanlarında hoş görmeyi barındırmayanlar.\n",
      "satir 6: Yavaş yavaş ölürler,\n",
      "satir 7: İzzetinefislerini yıkanlar\n",
      "satir 8: Hiçbir zaman yardım istemeyenler.\n",
      "satir 9: Yavaş yavaş ölürler\n",
      "satir 10: Alışkanlıklara esir olanlar,\n",
      "satir 11: her gün aynı yolları yürüyenler,\n",
      "satir 12: Ufuklarını genişletmeyen ve\n",
      "satir 13: değiştirmeyenler,\n",
      "satir 14: Elbiselerinin rengini değiştirme riskine bile girmeyen,\n",
      "satir 15: veya bir yabancı ile konuşmayanlar.\n",
      "satir 16: Yavaş yavaş ölürler\n",
      "satir 17: İhtiraslardan ve verdikleri heyecanlardan kaçınanlar,\n",
      "satir 18: tamir edilen kırık kalplerin gözlerindeki pırıltıyı\n",
      "satir 19: görmek istemekten kaçınanlar\n",
      "satir 20: yavaş yavaş ölürler.\n",
      "satir 21: Yavaş yavaş ölürler\n",
      "satir 22: Aşkta veya işte bedbaht olup istikamet değiştirmeyenler,\n",
      "satir 23: Rüyalarını gerçekleştirmek için risk almayanlar,\n",
      "satir 24: Hayatlarında bir kez dahi mantıklı tavsiyelerin\n",
      "satir 25: dışına çıkmamış olanlar.\n",
      "satir 26: Yavaş yavaş ölürler.\n",
      "Yavaş\n",
      "Seyahat\n",
      "Yavaş\n",
      "müzik\n",
      "vicdanlarında\n",
      "Yavaş\n",
      "İzzetinefislerini\n",
      "Hiçbir\n",
      "Yavaş\n",
      "Alışkanlıklara\n",
      "her\n",
      "Ufuklarını\n",
      "değiştirmeyenler,\n",
      "Elbiselerinin\n",
      "veya\n",
      "Yavaş\n",
      "İhtiraslardan\n",
      "tamir\n",
      "görmek\n",
      "yavaş\n",
      "Yavaş\n",
      "Aşkta\n",
      "Rüyalarını\n",
      "Hayatlarında\n",
      "dışına\n",
      "Yavaş\n"
     ]
    }
   ],
   "source": [
    "#Ödev 1\n",
    "\n",
    "# bu soruda tek sıkıntım satırlar arası boşluk olduğunda oldu, sinirlendim ve gittim dosyadan elle sildim :D \n",
    "# ama boşluk olsaydı nasıl yapardık diye soracağım. yani split() boşluk görünce duruyor, eleman olmadığı için. \n",
    "# devam etmiyor yazmaya ilk kelimeleri\n",
    "\n",
    "with open('neruda.txt') as f:  \n",
    "        line = f.readline()\n",
    "        cnt = 1\n",
    "        while line:\n",
    "            print(\"satir {}: {}\".format(cnt, line.strip()))\n",
    "            line = f.readline()\n",
    "            cnt += 1\n",
    "            \n",
    "with open ('neruda.txt', 'r') as f:\n",
    "    lines = f.readlines()\n",
    "f = open('neruda_2.txt', 'a')\n",
    "for line in lines:\n",
    "    words= line.split()\n",
    "    print(words[0])"
   ]
  },
  {
   "cell_type": "code",
   "execution_count": 94,
   "metadata": {},
   "outputs": [
    {
     "name": "stdout",
     "output_type": "stream",
     "text": [
      "jkbkjbk : 16\n",
      "5 asal sayidir\n"
     ]
    },
    {
     "ename": "KeyboardInterrupt",
     "evalue": "",
     "output_type": "error",
     "traceback": [
      "\u001b[0;31m---------------------------------------------------------------------------\u001b[0m",
      "\u001b[0;31mKeyboardInterrupt\u001b[0m                         Traceback (most recent call last)",
      "\u001b[0;32m/usr/local/lib/python3.7/site-packages/ipykernel/kernelbase.py\u001b[0m in \u001b[0;36m_input_request\u001b[0;34m(self, prompt, ident, parent, password)\u001b[0m\n\u001b[1;32m    884\u001b[0m             \u001b[0;32mtry\u001b[0m\u001b[0;34m:\u001b[0m\u001b[0;34m\u001b[0m\u001b[0;34m\u001b[0m\u001b[0m\n\u001b[0;32m--> 885\u001b[0;31m                 \u001b[0mident\u001b[0m\u001b[0;34m,\u001b[0m \u001b[0mreply\u001b[0m \u001b[0;34m=\u001b[0m \u001b[0mself\u001b[0m\u001b[0;34m.\u001b[0m\u001b[0msession\u001b[0m\u001b[0;34m.\u001b[0m\u001b[0mrecv\u001b[0m\u001b[0;34m(\u001b[0m\u001b[0mself\u001b[0m\u001b[0;34m.\u001b[0m\u001b[0mstdin_socket\u001b[0m\u001b[0;34m,\u001b[0m \u001b[0;36m0\u001b[0m\u001b[0;34m)\u001b[0m\u001b[0;34m\u001b[0m\u001b[0;34m\u001b[0m\u001b[0m\n\u001b[0m\u001b[1;32m    886\u001b[0m             \u001b[0;32mexcept\u001b[0m \u001b[0mException\u001b[0m\u001b[0;34m:\u001b[0m\u001b[0;34m\u001b[0m\u001b[0;34m\u001b[0m\u001b[0m\n",
      "\u001b[0;32m/usr/local/lib/python3.7/site-packages/jupyter_client/session.py\u001b[0m in \u001b[0;36mrecv\u001b[0;34m(self, socket, mode, content, copy)\u001b[0m\n\u001b[1;32m    802\u001b[0m         \u001b[0;32mtry\u001b[0m\u001b[0;34m:\u001b[0m\u001b[0;34m\u001b[0m\u001b[0;34m\u001b[0m\u001b[0m\n\u001b[0;32m--> 803\u001b[0;31m             \u001b[0mmsg_list\u001b[0m \u001b[0;34m=\u001b[0m \u001b[0msocket\u001b[0m\u001b[0;34m.\u001b[0m\u001b[0mrecv_multipart\u001b[0m\u001b[0;34m(\u001b[0m\u001b[0mmode\u001b[0m\u001b[0;34m,\u001b[0m \u001b[0mcopy\u001b[0m\u001b[0;34m=\u001b[0m\u001b[0mcopy\u001b[0m\u001b[0;34m)\u001b[0m\u001b[0;34m\u001b[0m\u001b[0;34m\u001b[0m\u001b[0m\n\u001b[0m\u001b[1;32m    804\u001b[0m         \u001b[0;32mexcept\u001b[0m \u001b[0mzmq\u001b[0m\u001b[0;34m.\u001b[0m\u001b[0mZMQError\u001b[0m \u001b[0;32mas\u001b[0m \u001b[0me\u001b[0m\u001b[0;34m:\u001b[0m\u001b[0;34m\u001b[0m\u001b[0;34m\u001b[0m\u001b[0m\n",
      "\u001b[0;32m/usr/local/lib/python3.7/site-packages/zmq/sugar/socket.py\u001b[0m in \u001b[0;36mrecv_multipart\u001b[0;34m(self, flags, copy, track)\u001b[0m\n\u001b[1;32m    469\u001b[0m         \"\"\"\n\u001b[0;32m--> 470\u001b[0;31m         \u001b[0mparts\u001b[0m \u001b[0;34m=\u001b[0m \u001b[0;34m[\u001b[0m\u001b[0mself\u001b[0m\u001b[0;34m.\u001b[0m\u001b[0mrecv\u001b[0m\u001b[0;34m(\u001b[0m\u001b[0mflags\u001b[0m\u001b[0;34m,\u001b[0m \u001b[0mcopy\u001b[0m\u001b[0;34m=\u001b[0m\u001b[0mcopy\u001b[0m\u001b[0;34m,\u001b[0m \u001b[0mtrack\u001b[0m\u001b[0;34m=\u001b[0m\u001b[0mtrack\u001b[0m\u001b[0;34m)\u001b[0m\u001b[0;34m]\u001b[0m\u001b[0;34m\u001b[0m\u001b[0;34m\u001b[0m\u001b[0m\n\u001b[0m\u001b[1;32m    471\u001b[0m         \u001b[0;31m# have first part already, only loop while more to receive\u001b[0m\u001b[0;34m\u001b[0m\u001b[0;34m\u001b[0m\u001b[0;34m\u001b[0m\u001b[0m\n",
      "\u001b[0;32mzmq/backend/cython/socket.pyx\u001b[0m in \u001b[0;36mzmq.backend.cython.socket.Socket.recv\u001b[0;34m()\u001b[0m\n",
      "\u001b[0;32mzmq/backend/cython/socket.pyx\u001b[0m in \u001b[0;36mzmq.backend.cython.socket.Socket.recv\u001b[0;34m()\u001b[0m\n",
      "\u001b[0;32mzmq/backend/cython/socket.pyx\u001b[0m in \u001b[0;36mzmq.backend.cython.socket._recv_copy\u001b[0;34m()\u001b[0m\n",
      "\u001b[0;32m/usr/local/lib/python3.7/site-packages/zmq/backend/cython/checkrc.pxd\u001b[0m in \u001b[0;36mzmq.backend.cython.checkrc._check_rc\u001b[0;34m()\u001b[0m\n",
      "\u001b[0;31mKeyboardInterrupt\u001b[0m: ",
      "\nDuring handling of the above exception, another exception occurred:\n",
      "\u001b[0;31mKeyboardInterrupt\u001b[0m                         Traceback (most recent call last)",
      "\u001b[0;32m<ipython-input-94-ad31973d75a7>\u001b[0m in \u001b[0;36m<module>\u001b[0;34m\u001b[0m\n\u001b[1;32m     16\u001b[0m \u001b[0;34m\u001b[0m\u001b[0m\n\u001b[1;32m     17\u001b[0m \u001b[0;32mwhile\u001b[0m \u001b[0;36m1\u001b[0m\u001b[0;34m:\u001b[0m\u001b[0;34m\u001b[0m\u001b[0;34m\u001b[0m\u001b[0m\n\u001b[0;32m---> 18\u001b[0;31m     \u001b[0mnumber\u001b[0m \u001b[0;34m=\u001b[0m \u001b[0minput\u001b[0m\u001b[0;34m(\u001b[0m\u001b[0;34m'jkbkjbk : '\u001b[0m\u001b[0;34m)\u001b[0m\u001b[0;34m\u001b[0m\u001b[0;34m\u001b[0m\u001b[0m\n\u001b[0m\u001b[1;32m     19\u001b[0m     \u001b[0;32mif\u001b[0m \u001b[0mnumber\u001b[0m \u001b[0;34m==\u001b[0m \u001b[0;34m'quit'\u001b[0m\u001b[0;34m:\u001b[0m\u001b[0;34m\u001b[0m\u001b[0;34m\u001b[0m\u001b[0m\n\u001b[1;32m     20\u001b[0m         \u001b[0;32mbreak\u001b[0m\u001b[0;34m\u001b[0m\u001b[0;34m\u001b[0m\u001b[0m\n",
      "\u001b[0;32m/usr/local/lib/python3.7/site-packages/ipykernel/kernelbase.py\u001b[0m in \u001b[0;36mraw_input\u001b[0;34m(self, prompt)\u001b[0m\n\u001b[1;32m    858\u001b[0m             \u001b[0mself\u001b[0m\u001b[0;34m.\u001b[0m\u001b[0m_parent_ident\u001b[0m\u001b[0;34m,\u001b[0m\u001b[0;34m\u001b[0m\u001b[0;34m\u001b[0m\u001b[0m\n\u001b[1;32m    859\u001b[0m             \u001b[0mself\u001b[0m\u001b[0;34m.\u001b[0m\u001b[0m_parent_header\u001b[0m\u001b[0;34m,\u001b[0m\u001b[0;34m\u001b[0m\u001b[0;34m\u001b[0m\u001b[0m\n\u001b[0;32m--> 860\u001b[0;31m             \u001b[0mpassword\u001b[0m\u001b[0;34m=\u001b[0m\u001b[0;32mFalse\u001b[0m\u001b[0;34m,\u001b[0m\u001b[0;34m\u001b[0m\u001b[0;34m\u001b[0m\u001b[0m\n\u001b[0m\u001b[1;32m    861\u001b[0m         )\n\u001b[1;32m    862\u001b[0m \u001b[0;34m\u001b[0m\u001b[0m\n",
      "\u001b[0;32m/usr/local/lib/python3.7/site-packages/ipykernel/kernelbase.py\u001b[0m in \u001b[0;36m_input_request\u001b[0;34m(self, prompt, ident, parent, password)\u001b[0m\n\u001b[1;32m    888\u001b[0m             \u001b[0;32mexcept\u001b[0m \u001b[0mKeyboardInterrupt\u001b[0m\u001b[0;34m:\u001b[0m\u001b[0;34m\u001b[0m\u001b[0;34m\u001b[0m\u001b[0m\n\u001b[1;32m    889\u001b[0m                 \u001b[0;31m# re-raise KeyboardInterrupt, to truncate traceback\u001b[0m\u001b[0;34m\u001b[0m\u001b[0;34m\u001b[0m\u001b[0;34m\u001b[0m\u001b[0m\n\u001b[0;32m--> 890\u001b[0;31m                 \u001b[0;32mraise\u001b[0m \u001b[0mKeyboardInterrupt\u001b[0m\u001b[0;34m\u001b[0m\u001b[0;34m\u001b[0m\u001b[0m\n\u001b[0m\u001b[1;32m    891\u001b[0m             \u001b[0;32melse\u001b[0m\u001b[0;34m:\u001b[0m\u001b[0;34m\u001b[0m\u001b[0;34m\u001b[0m\u001b[0m\n\u001b[1;32m    892\u001b[0m                 \u001b[0;32mbreak\u001b[0m\u001b[0;34m\u001b[0m\u001b[0;34m\u001b[0m\u001b[0m\n",
      "\u001b[0;31mKeyboardInterrupt\u001b[0m: "
     ]
    }
   ],
   "source": [
    "# Ödev 2\n",
    "\n",
    "#bunu da while ile döngüye soktuğumda inputla birlikte hata aldım.\n",
    "\n",
    "def test_prime(n):\n",
    "        if (n==1):\n",
    "            return str(n) + \" asal sayi degildir\";\n",
    "        elif (n==2):\n",
    "            return str(n) + \" asal sayidir\";\n",
    "        else:\n",
    "            for x in range(2,n):\n",
    "                if(n % x==0):\n",
    "                    return str(n) + \" asal sayi degildir\";\n",
    "            return str(n) + \" asal sayidir\"\n",
    "test_prime(15)\n",
    "\n",
    "while 1:\n",
    "    number = input('şütfen bir sayı giriniz: ')\n",
    "    if number == 'quit':\n",
    "        break\n",
    "    print(test_prime(int(n)))\n",
    "\n"
   ]
  },
  {
   "cell_type": "code",
   "execution_count": 83,
   "metadata": {},
   "outputs": [
    {
     "data": {
      "text/plain": [
       "[1, 2, 3, 4, 5, 6, 7]"
      ]
     },
     "execution_count": 83,
     "metadata": {},
     "output_type": "execute_result"
    }
   ],
   "source": [
    "# Ödev 3\n",
    "\n",
    "# yeni bir liste oluşturarak döndür demişsin ama uniq değerleri nasıl bırakacağımı anlamadım \n",
    "# ve sözlük olarak bastım \n",
    "\n",
    "def uniq_liste(x):\n",
    "    return list(dict.fromkeys(x))\n",
    "\n",
    "uniq_liste([1,2,2,3,3,4,5,6,7,7])\n"
   ]
  },
  {
   "cell_type": "code",
   "execution_count": 93,
   "metadata": {},
   "outputs": [
    {
     "name": "stdout",
     "output_type": "stream",
     "text": [
      "30 years\n"
     ]
    }
   ],
   "source": [
    "# Ödev 4\n",
    "\n",
    "from datetime import date \n",
    "  \n",
    "def calculateAge(birthDate): \n",
    "    days_in_year = 365.2425    \n",
    "    age = int((date.today() - birthDate).days / days_in_year) \n",
    "    return age \n",
    "          \n",
    "print(calculateAge(date(1989, 4, 14)), \"years\")\n"
   ]
  },
  {
   "cell_type": "code",
   "execution_count": 103,
   "metadata": {},
   "outputs": [],
   "source": [
    "#ödev 3\n",
    "def uniq_liste(x):\n",
    "    output = list()\n",
    "    \n",
    "    for i in x:\n",
    "        if i not in output:\n",
    "            output.append(i)\n",
    "        \n",
    "    return output"
   ]
  },
  {
   "cell_type": "code",
   "execution_count": 105,
   "metadata": {},
   "outputs": [
    {
     "name": "stdout",
     "output_type": "stream",
     "text": [
      "[1, 2, 3, 4, 5, 6, 7]\n"
     ]
    }
   ],
   "source": [
    "print(uniq_liste([1,2,2,3,3,4,5,6,7,7]))"
   ]
  },
  {
   "cell_type": "code",
   "execution_count": 106,
   "metadata": {},
   "outputs": [],
   "source": [
    "#ödev 3 - alternatif çözüm\n",
    "\n",
    "def uniq_liste(y):\n",
    "    output2 = set()\n",
    "    \n",
    "    for i in y:\n",
    "        output2.add(i)\n",
    "        \n",
    "    return output2\n",
    "            "
   ]
  },
  {
   "cell_type": "code",
   "execution_count": 107,
   "metadata": {},
   "outputs": [
    {
     "name": "stdout",
     "output_type": "stream",
     "text": [
      "{1, 2, 3, 4, 5, 6, 7}\n"
     ]
    }
   ],
   "source": [
    "print(uniq_liste([1,2,2,3,3,4,5,6,7,7]))"
   ]
  },
  {
   "cell_type": "code",
   "execution_count": 116,
   "metadata": {},
   "outputs": [
    {
     "name": "stdout",
     "output_type": "stream",
     "text": [
      "[1, 2, 3, 4, 5, 6, 7]\n"
     ]
    }
   ],
   "source": [
    "#ödev 3 - alternatif özüm\n",
    "def uniq_liste(sayilar): \n",
    "    out = dict() \n",
    "    for i in sayilar: \n",
    "            out[str(i)]=0\n",
    "    return  list(map(int, out.keys()))\n",
    "\n",
    "sayilar = [1,2,2,3,3,4,5,6,7,7]\n",
    "print(uniq_liste(sayilar))"
   ]
  },
  {
   "cell_type": "code",
   "execution_count": 113,
   "metadata": {},
   "outputs": [
    {
     "ename": "AttributeError",
     "evalue": "'dict' object has no attribute 'add'",
     "output_type": "error",
     "traceback": [
      "\u001b[0;31m---------------------------------------------------------------------------\u001b[0m",
      "\u001b[0;31mAttributeError\u001b[0m                            Traceback (most recent call last)",
      "\u001b[0;32m<ipython-input-113-d5b47a2c503b>\u001b[0m in \u001b[0;36m<module>\u001b[0;34m\u001b[0m\n\u001b[0;32m----> 1\u001b[0;31m \u001b[0mprint\u001b[0m\u001b[0;34m(\u001b[0m\u001b[0muniq_liste\u001b[0m\u001b[0;34m(\u001b[0m\u001b[0;34m[\u001b[0m\u001b[0;36m1\u001b[0m\u001b[0;34m,\u001b[0m\u001b[0;36m2\u001b[0m\u001b[0;34m,\u001b[0m\u001b[0;36m2\u001b[0m\u001b[0;34m,\u001b[0m\u001b[0;36m3\u001b[0m\u001b[0;34m,\u001b[0m\u001b[0;36m3\u001b[0m\u001b[0;34m,\u001b[0m\u001b[0;36m4\u001b[0m\u001b[0;34m,\u001b[0m\u001b[0;36m5\u001b[0m\u001b[0;34m,\u001b[0m\u001b[0;36m6\u001b[0m\u001b[0;34m,\u001b[0m\u001b[0;36m7\u001b[0m\u001b[0;34m,\u001b[0m\u001b[0;36m7\u001b[0m\u001b[0;34m]\u001b[0m\u001b[0;34m)\u001b[0m\u001b[0;34m)\u001b[0m\u001b[0;34m\u001b[0m\u001b[0;34m\u001b[0m\u001b[0m\n\u001b[0m",
      "\u001b[0;32m<ipython-input-112-61eb28fb8ef5>\u001b[0m in \u001b[0;36muniq_liste\u001b[0;34m(z)\u001b[0m\n\u001b[1;32m      3\u001b[0m \u001b[0;34m\u001b[0m\u001b[0m\n\u001b[1;32m      4\u001b[0m     \u001b[0;32mfor\u001b[0m \u001b[0mi\u001b[0m \u001b[0;32min\u001b[0m \u001b[0mz\u001b[0m\u001b[0;34m:\u001b[0m\u001b[0;34m\u001b[0m\u001b[0;34m\u001b[0m\u001b[0m\n\u001b[0;32m----> 5\u001b[0;31m         \u001b[0moutput3\u001b[0m\u001b[0;34m.\u001b[0m\u001b[0madd\u001b[0m\u001b[0;34m(\u001b[0m\u001b[0;34m{\u001b[0m\u001b[0mi\u001b[0m\u001b[0;34m}\u001b[0m\u001b[0;34m)\u001b[0m\u001b[0;34m\u001b[0m\u001b[0;34m\u001b[0m\u001b[0m\n\u001b[0m\u001b[1;32m      6\u001b[0m     \u001b[0;32mreturn\u001b[0m \u001b[0moutput3\u001b[0m\u001b[0;34m\u001b[0m\u001b[0;34m\u001b[0m\u001b[0m\n",
      "\u001b[0;31mAttributeError\u001b[0m: 'dict' object has no attribute 'add'"
     ]
    }
   ],
   "source": [
    "print(uniq_liste([1,2,2,3,3,4,5,6,7,7]))"
   ]
  },
  {
   "cell_type": "code",
   "execution_count": 118,
   "metadata": {},
   "outputs": [
    {
     "name": "stdout",
     "output_type": "stream",
     "text": [
      "satir 1: Yavaş yavaş ölürler\n",
      "satir 2: Seyahat etmeyenler,\n",
      "satir 3: Yavaş yavaş ölürler okumayanlar,\n",
      "satir 4: müzik dinlemeyenler,\n",
      "satir 5: vicdanlarında hoş görmeyi barındırmayanlar.\n",
      "satir 6: Yavaş yavaş ölürler,\n",
      "satir 7: İzzetinefislerini yıkanlar\n",
      "satir 8: Hiçbir zaman yardım istemeyenler.\n",
      "satir 9: Yavaş yavaş ölürler\n",
      "satir 10: Alışkanlıklara esir olanlar,\n",
      "satir 11: her gün aynı yolları yürüyenler,\n",
      "satir 12: Ufuklarını genişletmeyen ve\n",
      "satir 13: değiştirmeyenler,\n",
      "satir 14: Elbiselerinin rengini değiştirme riskine bile girmeyen,\n",
      "satir 15: veya bir yabancı ile konuşmayanlar.\n",
      "satir 16: Yavaş yavaş ölürler\n",
      "satir 17: İhtiraslardan ve verdikleri heyecanlardan kaçınanlar,\n",
      "satir 18: tamir edilen kırık kalplerin gözlerindeki pırıltıyı\n",
      "satir 19: görmek istemekten kaçınanlar\n",
      "satir 20: yavaş yavaş ölürler.\n",
      "satir 21: Yavaş yavaş ölürler\n",
      "satir 22: Aşkta veya işte bedbaht olup istikamet değiştirmeyenler,\n",
      "satir 23: Rüyalarını gerçekleştirmek için risk almayanlar,\n",
      "satir 24: Hayatlarında bir kez dahi mantıklı tavsiyelerin\n",
      "satir 25: dışına çıkmamış olanlar.\n",
      "satir 26: Yavaş yavaş ölürler.\n",
      "Yavaş\n",
      "Seyahat\n",
      "Yavaş\n",
      "müzik\n",
      "vicdanlarında\n",
      "Yavaş\n",
      "İzzetinefislerini\n",
      "Hiçbir\n",
      "Yavaş\n",
      "Alışkanlıklara\n",
      "her\n",
      "Ufuklarını\n",
      "değiştirmeyenler,\n",
      "Elbiselerinin\n",
      "veya\n",
      "Yavaş\n",
      "İhtiraslardan\n",
      "tamir\n",
      "görmek\n",
      "yavaş\n",
      "Yavaş\n",
      "Aşkta\n",
      "Rüyalarını\n",
      "Hayatlarında\n",
      "dışına\n",
      "Yavaş\n"
     ]
    }
   ],
   "source": [
    "#ödev 1 - alternatif çözüm\n",
    "\n",
    "with open('neruda.txt') as f:  \n",
    "        line = f.readline()\n",
    "        cnt = 1\n",
    "        while line:\n",
    "            print(\"satir {}: {}\".format(cnt, line.strip()))\n",
    "            line = f.readline()\n",
    "            cnt += 1\n",
    "\n",
    "with open ('neruda.txt', 'r') as f:\n",
    "    lines = f.readlines()\n",
    "f = open('neruda_2.txt', 'a')\n",
    "for line in lines:\n",
    "    if line.strip():\n",
    "\n",
    "        words= line.split()\n",
    "        print(words[0])"
   ]
  },
  {
   "cell_type": "code",
   "execution_count": null,
   "metadata": {},
   "outputs": [],
   "source": []
  }
 ],
 "metadata": {
  "kernelspec": {
   "display_name": "Python 3",
   "language": "python",
   "name": "python3"
  },
  "language_info": {
   "codemirror_mode": {
    "name": "ipython",
    "version": 3
   },
   "file_extension": ".py",
   "mimetype": "text/x-python",
   "name": "python",
   "nbconvert_exporter": "python",
   "pygments_lexer": "ipython3",
   "version": "3.7.3"
  }
 },
 "nbformat": 4,
 "nbformat_minor": 2
}
