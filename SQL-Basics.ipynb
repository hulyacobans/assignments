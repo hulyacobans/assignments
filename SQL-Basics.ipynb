{
 "cells": [
  {
   "cell_type": "markdown",
   "metadata": {},
   "source": [
    "## Birinci Soru\n",
    "\n",
    "SELECT\n",
    "\n",
    "customerNumber,\n",
    "\n",
    "customerName,\n",
    "\n",
    "creditLimit\n",
    "\n",
    "FROM\n",
    "\n",
    "customers\n",
    "\n",
    "WHERE creditLimit > 100000\n",
    "\n",
    "ORDER BY creditLimit DESC\n"
   ]
  },
  {
   "cell_type": "markdown",
   "metadata": {},
   "source": [
    "## İkinci Soru\n",
    "\n",
    "select * from customers \n",
    "\n",
    "where customernumber=151"
   ]
  },
  {
   "cell_type": "markdown",
   "metadata": {},
   "source": [
    "## Üçüncü Soru\n",
    "\n",
    "select creditLimit,\n",
    "\n",
    "customerName\n",
    "\n",
    "from customers \n",
    "\n",
    "where postalCode=10022 \n",
    "\n",
    "order by creditLimit DESC"
   ]
  },
  {
   "cell_type": "code",
   "execution_count": null,
   "metadata": {},
   "outputs": [],
   "source": []
  }
 ],
 "metadata": {
  "kernelspec": {
   "display_name": "Python 3",
   "language": "python",
   "name": "python3"
  },
  "language_info": {
   "codemirror_mode": {
    "name": "ipython",
    "version": 3
   },
   "file_extension": ".py",
   "mimetype": "text/x-python",
   "name": "python",
   "nbconvert_exporter": "python",
   "pygments_lexer": "ipython3",
   "version": "3.7.3"
  }
 },
 "nbformat": 4,
 "nbformat_minor": 2
}
