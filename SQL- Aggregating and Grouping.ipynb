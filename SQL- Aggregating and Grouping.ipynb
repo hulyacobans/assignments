{
 "cells": [
  {
   "cell_type": "markdown",
   "metadata": {},
   "source": [
    "## Birinci Soru\n",
    "\n",
    "select\n",
    "\n",
    "customerName,\n",
    "\n",
    "max(creditLimit) as kredi_limit_max\n",
    "\n",
    "FROM customers\n",
    "\n",
    "order by creditLimit DESC\n",
    "\n",
    "limit 1"
   ]
  },
  {
   "cell_type": "markdown",
   "metadata": {},
   "source": [
    "## İkinci Soru\n",
    "\n",
    "SELECT\n",
    "\n",
    "country,\n",
    "\n",
    "count(*)\n",
    "\n",
    "FROM customers\n",
    "\n",
    "GROUP BY country;"
   ]
  },
  {
   "cell_type": "markdown",
   "metadata": {},
   "source": [
    "## Üçünü Soru\n",
    "\n",
    "SELECT \n",
    "\n",
    "customerNumber,\n",
    "\n",
    "orderNumber,\n",
    "\n",
    "count(*) as miktar\n",
    "\n",
    "FROM orders\n",
    "\n",
    "group by customerNumber\n",
    "\n",
    "order by miktar ASC\n",
    "\n",
    "limit 1"
   ]
  },
  {
   "cell_type": "code",
   "execution_count": null,
   "metadata": {},
   "outputs": [],
   "source": []
  }
 ],
 "metadata": {
  "kernelspec": {
   "display_name": "Python 3",
   "language": "python",
   "name": "python3"
  },
  "language_info": {
   "codemirror_mode": {
    "name": "ipython",
    "version": 3
   },
   "file_extension": ".py",
   "mimetype": "text/x-python",
   "name": "python",
   "nbconvert_exporter": "python",
   "pygments_lexer": "ipython3",
   "version": "3.7.3"
  }
 },
 "nbformat": 4,
 "nbformat_minor": 2
}
