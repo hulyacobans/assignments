{
 "cells": [
  {
   "cell_type": "code",
   "execution_count": 12,
   "metadata": {},
   "outputs": [
    {
     "name": "stdout",
     "output_type": "stream",
     "text": [
      "0.585\n",
      "0.5692307692307693\n"
     ]
    }
   ],
   "source": [
    "PA = 0.2\n",
    "PB = 0.5\n",
    "PC = 0.5\n",
    "\n",
    "PDA = 0.010\n",
    "PDB = 0.666\n",
    "PDC = 0.500\n",
    "\n",
    "PD = PA*PDA + PB*PDB + PC*PDC\n",
    "\n",
    "print(PD)\n",
    "\n",
    "# P(B|D) ?\n",
    "\n",
    "PBD = (PDB*PB)/PD\n",
    "print(PBD)"
   ]
  },
  {
   "cell_type": "code",
   "execution_count": null,
   "metadata": {},
   "outputs": [],
   "source": []
  }
 ],
 "metadata": {
  "kernelspec": {
   "display_name": "Python 3",
   "language": "python",
   "name": "python3"
  },
  "language_info": {
   "codemirror_mode": {
    "name": "ipython",
    "version": 3
   },
   "file_extension": ".py",
   "mimetype": "text/x-python",
   "name": "python",
   "nbconvert_exporter": "python",
   "pygments_lexer": "ipython3",
   "version": "3.7.3"
  }
 },
 "nbformat": 4,
 "nbformat_minor": 2
}
